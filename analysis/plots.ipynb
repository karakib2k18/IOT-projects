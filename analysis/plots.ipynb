{
 "cells": [
  {
   "cell_type": "code",
   "execution_count": null,
   "id": "bedad5d4",
   "metadata": {},
   "outputs": [],
   "source": [
    "import pandas as pd\n",
    "import matplotlib.pyplot as plt\n",
    "from pathlib import Path\n",
    "\n",
    "root = Path(__file__).resolve().parents[1]\n",
    "s1 = pd.read_csv(root / 'results' / 'summary_vulnerable.csv')\n",
    "s2 = pd.read_csv(root / 'results' / 'summary_secure.csv')\n",
    "\n",
    "df = pd.concat([s1, s2], ignore_index=True)\n",
    "display(df)\n",
    "\n",
    "# --- Confidentiality Comparison ---\n",
    "plt.figure(figsize=(6,4))\n",
    "plt.bar(df['scenario'], df['confidentiality_pct'], color=['salmon','skyblue'])\n",
    "plt.ylabel('Confidentiality (%)')\n",
    "plt.title('System-1 vs System-2 Confidentiality')\n",
    "plt.tight_layout()\n",
    "plt.savefig(root / 'docs' / 'figures' / 'confidentiality_compare.png', dpi=200)\n",
    "plt.show()\n",
    "\n",
    "# --- Latency & Energy ---\n",
    "fig, ax1 = plt.subplots(figsize=(7,4))\n",
    "ax2 = ax1.twinx()\n",
    "ax1.bar(df['scenario'], df['avg_latency_ms'], color='lightgreen', alpha=0.7, label='Latency (ms)')\n",
    "ax2.plot(df['scenario'], df['energy_mJ_total'], color='orange', marker='o', label='Energy (mJ)')\n",
    "ax1.set_ylabel('Latency (ms)')\n",
    "ax2.set_ylabel('Energy (mJ)')\n",
    "plt.title('Latency & Energy Comparison')\n",
    "fig.tight_layout()\n",
    "plt.savefig(root / 'docs' / 'figures' / 'latency_energy.png', dpi=200)\n",
    "plt.show()\n",
    "\n",
    "# --- Detectability (System-2 only) ---\n",
    "if 'eav_detect_rate' in s2.columns:\n",
    "    plt.figure(figsize=(5,3))\n",
    "    plt.bar(['Eve Detectability'], [s2['eav_detect_rate'].iloc[0]], color='gray')\n",
    "    plt.ylabel('Detection Rate (%)')\n",
    "    plt.title('Eavesdropper Detectability in System-2')\n",
    "    plt.tight_layout()\n",
    "    plt.savefig(root / 'docs' / 'figures' / 'detectability.png', dpi=200)\n",
    "    plt.show()\n",
    "\n",
    "print('✅ Plots saved to docs/figures/')"
   ]
  }
 ],
 "metadata": {
  "kernelspec": {
   "display_name": "Python 3",
   "language": "python",
   "name": "python3"
  },
  "language_info": {
   "name": "python"
  }
 },
 "nbformat": 4,
 "nbformat_minor": 5
}
